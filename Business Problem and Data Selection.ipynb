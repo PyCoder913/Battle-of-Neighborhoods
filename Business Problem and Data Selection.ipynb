{
    "cells": [
        {
            "metadata": {
                "collapsed": true
            },
            "cell_type": "markdown",
            "source": "# Business Problem and Data Selection"
        },
        {
            "metadata": {},
            "cell_type": "markdown",
            "source": "## Introduction"
        },
        {
            "metadata": {},
            "cell_type": "markdown",
            "source": "Let's start by addressig the business problem, that is the foremost thing in any Data Science task. So in our case, we have to utilize the **FourSquare API** for gathering location data. This project will help a Gym startup to find its best place in **North York**, Canada. The success of an organization like Gym or some restaurant is greatly based on its location. It is most likely that a Gym set up in an area or neighborhood having less number of previously running Gyms will blow up pretty fast. Hence, this project analyzes the neighorhood areas having less or no Gyms to help the Gym startup choose its best location.\n\n"
        },
        {
            "metadata": {},
            "cell_type": "markdown",
            "source": "## North York, Ontario, Canada"
        },
        {
            "metadata": {},
            "cell_type": "markdown",
            "source": "North York is an eclectic, multicultural district home to the hands-on Ontario Science Centre and the Aga Khan Museum, with exhibits on Islamic culture in a striking modern building. In the area\u2019s north, Black Creek Pioneer Village is an 1800s living museum. Sprawling Downsview Park includes a lake, event spaces, and a flea and farmers\u2019 market, while Edwards Gardens has a greenhouse, fountains, and botanic gardens. The district's central business district is known as North York Centre, which was the location of the former city's government and major corporate headquarters. North York Centre continues to be one of Toronto's major corporate areas with many office buildings and businesses. The former city hall of North York, the North York Civic Centre, is located within North York City Centre."
        },
        {
            "metadata": {},
            "cell_type": "markdown",
            "source": "## FourSquare API"
        },
        {
            "metadata": {},
            "cell_type": "markdown",
            "source": "The Foursquare API allows application developers to interact with the Foursquare platform. The API itself is a RESTful set of addresses to which you can send requests, so there's really nothing to download onto your server. That being said, in this article, you use a set of PHP libraries to help simplify requests and responses, but this is an entirely optional step. There are both GET and POST methods you can use, which means you aren't just limited to reading from feeds, you can also do useful stuff like checking in and creating locations using the API. As for rate limits, your application is limited to 200 requests per hour per method, so you probably want to implement some kind of result caching to \"play nice.\" "
        },
        {
            "metadata": {},
            "cell_type": "markdown",
            "source": "<hr>"
        },
        {
            "metadata": {},
            "cell_type": "markdown",
            "source": "## Business Problem\nNow that we are equipped with the gears, let us understand the Business problem. I, as a data scientist, need to determine which neighborhood(s) is the most perfect for a new Gym to be set up. Addressing this problem doesn't require use of Regression or Classification models. It requires some location data and clustering the neighborhoods on some basis. When we talk about the perfect place for a Gym, we need to consider the fact that a new Gym will run more efficiently in an area that doesn't have any gym previousl built. If a Gym is built in an area that already contains it, there remains only a sleek chance of getting good customers. \n\nRather than that, our other goal is to determine the neighborhoods that have Gyms in them. This is for the people who are planning to shift to North York because of new home or work and cannot decide which neighborhood to stay in. For fitness freaks and body builders, neighborhoods having better Gym facilities would be an ideal choice. Thus, we are also going to find out the neighborhoods in North York that has Gym and are ideal for fitness lovers to live in."
        },
        {
            "metadata": {},
            "cell_type": "markdown",
            "source": "## Data Selection and Preprocessing\nAfter understanding the Business Problem, now it's time to look into the data selection. In this project, we will be using the data of Postal codes and neighborhoods in Canada. The data is scraped from a Wikipedia page and then loaded into a Pandas dataframe. This is done using the **read_html** method. \n\nAfter the data is loaded, the dataset needs to be cleaned. There are rows whose boroughs have value \"Not assigned\". Such rows are of no use and should be dropped. Further, since we only need to deal with the neighborhoods of North York, we create a new dataframe containing only the neighborhoods in North York borough, from the original dataset.\n\n"
        },
        {
            "metadata": {},
            "cell_type": "markdown",
            "source": "<hr>"
        },
        {
            "metadata": {},
            "cell_type": "markdown",
            "source": "## Methodology and Machine Learning Algorithm Used\nHaving our goal clear, let's discuss about the methodology and the clustering algorithm used in this project.\n\nAfter having our data cleaned, at a later stage, we do **one-hot encoding** of the data using the **get_dummies()** method. Then we group the new one-hot encoded dataset by neighborhood. This is done to find out the common venues in each neighborhood by their means. This helps to find out which neighborhoods have pre-built gyms (mean > 0) and which neighborhoods do not. We will see that only two neighborhoods will have the mean value of Gym > 0, so only two of them have gyms already established in their vicinity. \n\nWe will keep visualizing the neighborhoods in a map using the Folium library. We will also visualize the neighborhoods that does not contain gym, and are hence ideal for new gym to be set up.\n\n**K-Means Clustering Algorithm** is the Machine Learning algorithm used.\n"
        },
        {
            "metadata": {},
            "cell_type": "markdown",
            "source": "### K-Means Clustering"
        },
        {
            "metadata": {},
            "cell_type": "markdown",
            "source": "K-means clustering is a method of vector quantization, originally from signal processing, that aims to partition n observations into k clusters in which each observation belongs to the cluster with the nearest mean (cluster centers or cluster centroid), serving as a prototype of the cluster. This results in a partitioning of the data space into Voronoi cells. k-means clustering minimizes within-cluster variances (squared Euclidean distances), but not regular Euclidean distances, which would be the more difficult Weber problem: the mean optimizes squared errors, whereas only the geometric median minimizes Euclidean distances. For instance, better Euclidean solutions can be found using k-medians and k-medoids.\n\nThe problem is computationally difficult; however, efficient heuristic algorithms converge quickly to a local optimum. These are usually similar to the expectation-maximization algorithm for mixtures of Gaussian distributions via an iterative refinement approach employed by both k-means and Gaussian mixture modeling. They both use cluster centers to model the data; however, k-means clustering tends to find clusters of comparable spatial extent, while the expectation-maximization mechanism allows clusters to have different shapes.\n\nThe algorithm has a loose relationship to the k-nearest neighbor classifier, a popular machine learning technique for classification that is often confused with k-means due to the name. Applying the 1-nearest neighbor classifier to the cluster centers obtained by k-means classifies new data into the existing clusters. This is known as nearest centroid classifier or Rocchio algorithm."
        },
        {
            "metadata": {},
            "cell_type": "markdown",
            "source": "## Other Python libraries used \nMany libraries of Python are used for the successful completion of the project. They are:\n* **Pandas**: for data manipulation and efficient handling\n* **Matplotlib, Seaborn, Folium**: Data visualization and plotting libraries\n* **Geocoder**: Python library to convert an address into latitude and longitude values\n* **JSON**: Library to handle and parse JSON files\n* **requests**: Library to handle requests"
        },
        {
            "metadata": {},
            "cell_type": "markdown",
            "source": "<hr>"
        },
        {
            "metadata": {},
            "cell_type": "markdown",
            "source": "**Author**: Rajdeep Pathak"
        }
    ],
    "metadata": {
        "kernelspec": {
            "name": "python3",
            "display_name": "Python 3.7",
            "language": "python"
        },
        "language_info": {
            "name": "python",
            "version": "3.7.9",
            "mimetype": "text/x-python",
            "codemirror_mode": {
                "name": "ipython",
                "version": 3
            },
            "pygments_lexer": "ipython3",
            "nbconvert_exporter": "python",
            "file_extension": ".py"
        }
    },
    "nbformat": 4,
    "nbformat_minor": 1
}